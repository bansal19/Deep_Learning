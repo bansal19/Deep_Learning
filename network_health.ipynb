{
  "cells": [
    {
      "cell_type": "markdown",
      "metadata": {
        "id": "view-in-github",
        "colab_type": "text"
      },
      "source": [
        "<a href=\"https://colab.research.google.com/github/bansal19/Deep_Learning_Bittensor/blob/main/network_health.ipynb\" target=\"_parent\"><img src=\"https://colab.research.google.com/assets/colab-badge.svg\" alt=\"Open In Colab\"/></a>"
      ]
    },
    {
      "cell_type": "code",
      "execution_count": 4,
      "metadata": {
        "id": "yDe0YHy8YWeS",
        "outputId": "b6fc7cb0-89f9-4373-ace6-77e6ee2fe195",
        "colab": {
          "base_uri": "https://localhost:8080/"
        }
      },
      "outputs": [
        {
          "output_type": "stream",
          "name": "stdout",
          "text": [
            "Requirement already satisfied: tabulate in /usr/local/lib/python3.10/dist-packages (0.9.0)\n",
            "Requirement already satisfied: bittensor in /usr/local/lib/python3.10/dist-packages (8.0.0)\n",
            "Requirement already satisfied: plotly in /usr/local/lib/python3.10/dist-packages (5.24.1)\n",
            "Requirement already satisfied: wandb in /usr/local/lib/python3.10/dist-packages (0.18.1)\n",
            "Requirement already satisfied: pandas in /usr/local/lib/python3.10/dist-packages (2.2.3)\n",
            "Requirement already satisfied: wheel in /usr/local/lib/python3.10/dist-packages (from bittensor) (0.44.0)\n",
            "Requirement already satisfied: setuptools~=70.0.0 in /usr/local/lib/python3.10/dist-packages (from bittensor) (70.0.0)\n",
            "Requirement already satisfied: aiohttp~=3.9 in /usr/local/lib/python3.10/dist-packages (from bittensor) (3.10.5)\n",
            "Requirement already satisfied: bt-decode in /usr/local/lib/python3.10/dist-packages (from bittensor) (0.0.1)\n",
            "Requirement already satisfied: colorama~=0.4.6 in /usr/local/lib/python3.10/dist-packages (from bittensor) (0.4.6)\n",
            "Requirement already satisfied: fastapi~=0.110.1 in /usr/local/lib/python3.10/dist-packages (from bittensor) (0.110.3)\n",
            "Requirement already satisfied: munch~=2.5.0 in /usr/local/lib/python3.10/dist-packages (from bittensor) (2.5.0)\n",
            "Requirement already satisfied: numpy~=2.0.1 in /usr/local/lib/python3.10/dist-packages (from bittensor) (2.0.2)\n",
            "Requirement already satisfied: msgpack-numpy-opentensor~=0.5.0 in /usr/local/lib/python3.10/dist-packages (from bittensor) (0.5.0)\n",
            "Requirement already satisfied: nest-asyncio in /usr/local/lib/python3.10/dist-packages (from bittensor) (1.6.0)\n",
            "Requirement already satisfied: netaddr in /usr/local/lib/python3.10/dist-packages (from bittensor) (1.3.0)\n",
            "Requirement already satisfied: packaging in /usr/local/lib/python3.10/dist-packages (from bittensor) (24.1)\n",
            "Requirement already satisfied: python-statemachine~=2.1 in /usr/local/lib/python3.10/dist-packages (from bittensor) (2.3.6)\n",
            "Requirement already satisfied: pyyaml in /usr/local/lib/python3.10/dist-packages (from bittensor) (6.0.2)\n",
            "Requirement already satisfied: retry in /usr/local/lib/python3.10/dist-packages (from bittensor) (0.9.2)\n",
            "Requirement already satisfied: requests in /usr/local/lib/python3.10/dist-packages (from bittensor) (2.32.3)\n",
            "Requirement already satisfied: rich in /usr/local/lib/python3.10/dist-packages (from bittensor) (13.8.1)\n",
            "Requirement already satisfied: pydantic<3,>=2.3 in /usr/local/lib/python3.10/dist-packages (from bittensor) (2.9.2)\n",
            "Requirement already satisfied: python-Levenshtein in /usr/local/lib/python3.10/dist-packages (from bittensor) (0.26.0)\n",
            "Requirement already satisfied: scalecodec==1.2.11 in /usr/local/lib/python3.10/dist-packages (from bittensor) (1.2.11)\n",
            "Requirement already satisfied: substrate-interface~=1.7.9 in /usr/local/lib/python3.10/dist-packages (from bittensor) (1.7.10)\n",
            "Requirement already satisfied: uvicorn in /usr/local/lib/python3.10/dist-packages (from bittensor) (0.30.6)\n",
            "Requirement already satisfied: bittensor-wallet==1.0.0 in /usr/local/lib/python3.10/dist-packages (from bittensor) (1.0.0)\n",
            "Requirement already satisfied: py-bip39-bindings==0.1.11 in /usr/local/lib/python3.10/dist-packages (from bittensor-wallet==1.0.0->bittensor) (0.1.11)\n",
            "Requirement already satisfied: termcolor in /usr/local/lib/python3.10/dist-packages (from bittensor-wallet==1.0.0->bittensor) (2.4.0)\n",
            "Requirement already satisfied: eth-utils<2.3.0 in /usr/local/lib/python3.10/dist-packages (from bittensor-wallet==1.0.0->bittensor) (2.2.2)\n",
            "Requirement already satisfied: password-strength in /usr/local/lib/python3.10/dist-packages (from bittensor-wallet==1.0.0->bittensor) (0.0.3.post2)\n",
            "Requirement already satisfied: cryptography~=43.0.1 in /usr/local/lib/python3.10/dist-packages (from bittensor-wallet==1.0.0->bittensor) (43.0.1)\n",
            "Requirement already satisfied: ansible~=6.7 in /usr/local/lib/python3.10/dist-packages (from bittensor-wallet==1.0.0->bittensor) (6.7.0)\n",
            "Requirement already satisfied: ansible-vault~=2.1 in /usr/local/lib/python3.10/dist-packages (from bittensor-wallet==1.0.0->bittensor) (2.1.0)\n",
            "Requirement already satisfied: more-itertools in /usr/local/lib/python3.10/dist-packages (from scalecodec==1.2.11->bittensor) (10.5.0)\n",
            "Requirement already satisfied: base58>=2.0.1 in /usr/local/lib/python3.10/dist-packages (from scalecodec==1.2.11->bittensor) (2.1.1)\n",
            "Requirement already satisfied: tenacity>=6.2.0 in /usr/local/lib/python3.10/dist-packages (from plotly) (9.0.0)\n",
            "Requirement already satisfied: click!=8.0.0,>=7.1 in /usr/local/lib/python3.10/dist-packages (from wandb) (8.1.7)\n",
            "Requirement already satisfied: docker-pycreds>=0.4.0 in /usr/local/lib/python3.10/dist-packages (from wandb) (0.4.0)\n",
            "Requirement already satisfied: gitpython!=3.1.29,>=1.0.0 in /usr/local/lib/python3.10/dist-packages (from wandb) (3.1.43)\n",
            "Requirement already satisfied: platformdirs in /usr/local/lib/python3.10/dist-packages (from wandb) (4.3.6)\n",
            "Requirement already satisfied: protobuf!=4.21.0,!=5.28.0,<6,>=3.19.0 in /usr/local/lib/python3.10/dist-packages (from wandb) (3.20.3)\n",
            "Requirement already satisfied: psutil>=5.0.0 in /usr/local/lib/python3.10/dist-packages (from wandb) (5.9.5)\n",
            "Requirement already satisfied: sentry-sdk>=1.0.0 in /usr/local/lib/python3.10/dist-packages (from wandb) (2.14.0)\n",
            "Requirement already satisfied: setproctitle in /usr/local/lib/python3.10/dist-packages (from wandb) (1.3.3)\n",
            "Requirement already satisfied: python-dateutil>=2.8.2 in /usr/local/lib/python3.10/dist-packages (from pandas) (2.8.2)\n",
            "Requirement already satisfied: pytz>=2020.1 in /usr/local/lib/python3.10/dist-packages (from pandas) (2024.2)\n",
            "Requirement already satisfied: tzdata>=2022.7 in /usr/local/lib/python3.10/dist-packages (from pandas) (2024.1)\n",
            "Requirement already satisfied: aiohappyeyeballs>=2.3.0 in /usr/local/lib/python3.10/dist-packages (from aiohttp~=3.9->bittensor) (2.4.0)\n",
            "Requirement already satisfied: aiosignal>=1.1.2 in /usr/local/lib/python3.10/dist-packages (from aiohttp~=3.9->bittensor) (1.3.1)\n",
            "Requirement already satisfied: attrs>=17.3.0 in /usr/local/lib/python3.10/dist-packages (from aiohttp~=3.9->bittensor) (24.2.0)\n",
            "Requirement already satisfied: frozenlist>=1.1.1 in /usr/local/lib/python3.10/dist-packages (from aiohttp~=3.9->bittensor) (1.4.1)\n",
            "Requirement already satisfied: multidict<7.0,>=4.5 in /usr/local/lib/python3.10/dist-packages (from aiohttp~=3.9->bittensor) (6.1.0)\n",
            "Requirement already satisfied: yarl<2.0,>=1.0 in /usr/local/lib/python3.10/dist-packages (from aiohttp~=3.9->bittensor) (1.11.1)\n",
            "Requirement already satisfied: async-timeout<5.0,>=4.0 in /usr/local/lib/python3.10/dist-packages (from aiohttp~=3.9->bittensor) (4.0.3)\n",
            "Requirement already satisfied: six>=1.4.0 in /usr/local/lib/python3.10/dist-packages (from docker-pycreds>=0.4.0->wandb) (1.16.0)\n",
            "Requirement already satisfied: starlette<0.38.0,>=0.37.2 in /usr/local/lib/python3.10/dist-packages (from fastapi~=0.110.1->bittensor) (0.37.2)\n",
            "Requirement already satisfied: typing-extensions>=4.8.0 in /usr/local/lib/python3.10/dist-packages (from fastapi~=0.110.1->bittensor) (4.12.2)\n",
            "Requirement already satisfied: gitdb<5,>=4.0.1 in /usr/local/lib/python3.10/dist-packages (from gitpython!=3.1.29,>=1.0.0->wandb) (4.0.11)\n",
            "Requirement already satisfied: msgpack>=0.5.2 in /usr/local/lib/python3.10/dist-packages (from msgpack-numpy-opentensor~=0.5.0->bittensor) (1.0.8)\n",
            "Requirement already satisfied: annotated-types>=0.6.0 in /usr/local/lib/python3.10/dist-packages (from pydantic<3,>=2.3->bittensor) (0.7.0)\n",
            "Requirement already satisfied: pydantic-core==2.23.4 in /usr/local/lib/python3.10/dist-packages (from pydantic<3,>=2.3->bittensor) (2.23.4)\n",
            "Requirement already satisfied: charset-normalizer<4,>=2 in /usr/local/lib/python3.10/dist-packages (from requests->bittensor) (3.3.2)\n",
            "Requirement already satisfied: idna<4,>=2.5 in /usr/local/lib/python3.10/dist-packages (from requests->bittensor) (3.10)\n",
            "Requirement already satisfied: urllib3<3,>=1.21.1 in /usr/local/lib/python3.10/dist-packages (from requests->bittensor) (2.2.3)\n",
            "Requirement already satisfied: certifi>=2017.4.17 in /usr/local/lib/python3.10/dist-packages (from requests->bittensor) (2024.8.30)\n",
            "Requirement already satisfied: websocket-client<2,>=0.57.0 in /usr/local/lib/python3.10/dist-packages (from substrate-interface~=1.7.9->bittensor) (1.8.0)\n",
            "Requirement already satisfied: xxhash<4,>=1.3.0 in /usr/local/lib/python3.10/dist-packages (from substrate-interface~=1.7.9->bittensor) (3.5.0)\n",
            "Requirement already satisfied: ecdsa<1,>=0.17.0 in /usr/local/lib/python3.10/dist-packages (from substrate-interface~=1.7.9->bittensor) (0.19.0)\n",
            "Requirement already satisfied: eth-keys<1,>=0.2.1 in /usr/local/lib/python3.10/dist-packages (from substrate-interface~=1.7.9->bittensor) (0.5.1)\n",
            "Requirement already satisfied: pycryptodome<4,>=3.11.0 in /usr/local/lib/python3.10/dist-packages (from substrate-interface~=1.7.9->bittensor) (3.20.0)\n",
            "Requirement already satisfied: PyNaCl<2,>=1.0.1 in /usr/local/lib/python3.10/dist-packages (from substrate-interface~=1.7.9->bittensor) (1.5.0)\n",
            "Requirement already satisfied: py-sr25519-bindings<1,>=0.2.0 in /usr/local/lib/python3.10/dist-packages (from substrate-interface~=1.7.9->bittensor) (0.2.0)\n",
            "Requirement already satisfied: py-ed25519-zebra-bindings<2,>=1.0 in /usr/local/lib/python3.10/dist-packages (from substrate-interface~=1.7.9->bittensor) (1.0.1)\n",
            "Requirement already satisfied: toml==0.10.0 in /usr/local/lib/python3.10/dist-packages (from bt-decode->bittensor) (0.10.0)\n",
            "Requirement already satisfied: Levenshtein==0.26.0 in /usr/local/lib/python3.10/dist-packages (from python-Levenshtein->bittensor) (0.26.0)\n",
            "Requirement already satisfied: rapidfuzz<4.0.0,>=3.9.0 in /usr/local/lib/python3.10/dist-packages (from Levenshtein==0.26.0->python-Levenshtein->bittensor) (3.10.0)\n",
            "Requirement already satisfied: decorator>=3.4.2 in /usr/local/lib/python3.10/dist-packages (from retry->bittensor) (4.4.2)\n",
            "Requirement already satisfied: py<2.0.0,>=1.4.26 in /usr/local/lib/python3.10/dist-packages (from retry->bittensor) (1.11.0)\n",
            "Requirement already satisfied: markdown-it-py>=2.2.0 in /usr/local/lib/python3.10/dist-packages (from rich->bittensor) (3.0.0)\n",
            "Requirement already satisfied: pygments<3.0.0,>=2.13.0 in /usr/local/lib/python3.10/dist-packages (from rich->bittensor) (2.18.0)\n",
            "Requirement already satisfied: h11>=0.8 in /usr/local/lib/python3.10/dist-packages (from uvicorn->bittensor) (0.14.0)\n",
            "Requirement already satisfied: ansible-core~=2.13.7 in /usr/local/lib/python3.10/dist-packages (from ansible~=6.7->bittensor-wallet==1.0.0->bittensor) (2.13.13)\n",
            "Requirement already satisfied: cffi>=1.12 in /usr/local/lib/python3.10/dist-packages (from cryptography~=43.0.1->bittensor-wallet==1.0.0->bittensor) (1.17.1)\n",
            "Requirement already satisfied: eth-typing>=3 in /usr/local/lib/python3.10/dist-packages (from eth-keys<1,>=0.2.1->substrate-interface~=1.7.9->bittensor) (5.0.0)\n",
            "Requirement already satisfied: eth-hash>=0.3.1 in /usr/local/lib/python3.10/dist-packages (from eth-utils<2.3.0->bittensor-wallet==1.0.0->bittensor) (0.7.0)\n",
            "Requirement already satisfied: cytoolz>=0.10.1 in /usr/local/lib/python3.10/dist-packages (from eth-utils<2.3.0->bittensor-wallet==1.0.0->bittensor) (0.12.3)\n",
            "Requirement already satisfied: smmap<6,>=3.0.1 in /usr/local/lib/python3.10/dist-packages (from gitdb<5,>=4.0.1->gitpython!=3.1.29,>=1.0.0->wandb) (5.0.1)\n",
            "Requirement already satisfied: mdurl~=0.1 in /usr/local/lib/python3.10/dist-packages (from markdown-it-py>=2.2.0->rich->bittensor) (0.1.2)\n",
            "Requirement already satisfied: anyio<5,>=3.4.0 in /usr/local/lib/python3.10/dist-packages (from starlette<0.38.0,>=0.37.2->fastapi~=0.110.1->bittensor) (3.7.1)\n",
            "Requirement already satisfied: jinja2>=3.0.0 in /usr/local/lib/python3.10/dist-packages (from ansible-core~=2.13.7->ansible~=6.7->bittensor-wallet==1.0.0->bittensor) (3.1.4)\n",
            "Requirement already satisfied: resolvelib<0.9.0,>=0.5.3 in /usr/local/lib/python3.10/dist-packages (from ansible-core~=2.13.7->ansible~=6.7->bittensor-wallet==1.0.0->bittensor) (0.8.1)\n",
            "Requirement already satisfied: sniffio>=1.1 in /usr/local/lib/python3.10/dist-packages (from anyio<5,>=3.4.0->starlette<0.38.0,>=0.37.2->fastapi~=0.110.1->bittensor) (1.3.1)\n",
            "Requirement already satisfied: exceptiongroup in /usr/local/lib/python3.10/dist-packages (from anyio<5,>=3.4.0->starlette<0.38.0,>=0.37.2->fastapi~=0.110.1->bittensor) (1.2.2)\n",
            "Requirement already satisfied: pycparser in /usr/local/lib/python3.10/dist-packages (from cffi>=1.12->cryptography~=43.0.1->bittensor-wallet==1.0.0->bittensor) (2.22)\n",
            "Requirement already satisfied: toolz>=0.8.0 in /usr/local/lib/python3.10/dist-packages (from cytoolz>=0.10.1->eth-utils<2.3.0->bittensor-wallet==1.0.0->bittensor) (0.12.1)\n",
            "Requirement already satisfied: MarkupSafe>=2.0 in /usr/local/lib/python3.10/dist-packages (from jinja2>=3.0.0->ansible-core~=2.13.7->ansible~=6.7->bittensor-wallet==1.0.0->bittensor) (2.1.5)\n"
          ]
        }
      ],
      "source": [
        "!pip install tabulate bittensor plotly wandb pandas"
      ]
    },
    {
      "cell_type": "code",
      "execution_count": 5,
      "metadata": {
        "id": "UdYq55PwYWeU"
      },
      "outputs": [],
      "source": [
        "import wandb\n",
        "import bittensor as bt\n",
        "import pandas as pd\n",
        "import plotly.express as px"
      ]
    },
    {
      "cell_type": "markdown",
      "metadata": {
        "id": "LHqbFlyVYWeU"
      },
      "source": [
        "# Check current metagraph state"
      ]
    },
    {
      "cell_type": "code",
      "execution_count": 6,
      "metadata": {
        "id": "no5Tk_tEYWeV"
      },
      "outputs": [],
      "source": [
        "s = bt.subtensor(network='test')\n"
      ]
    },
    {
      "cell_type": "markdown",
      "source": [
        "#"
      ],
      "metadata": {
        "id": "tnR9VRztrl5o"
      }
    },
    {
      "cell_type": "code",
      "source": [
        "# TODO: set your coldkeys here\n",
        "my_coldkeys = ['<COLDKEY-1>','<COLDKEY-2>']\n"
      ],
      "metadata": {
        "id": "lp3wrU-EsD9a"
      },
      "execution_count": null,
      "outputs": []
    },
    {
      "cell_type": "code",
      "execution_count": null,
      "metadata": {
        "id": "_mDv17OqYWeX"
      },
      "outputs": [],
      "source": [
        "# grab current metagraph\n",
        "m = s.metagraph(1)"
      ]
    },
    {
      "cell_type": "code",
      "execution_count": null,
      "metadata": {
        "id": "_28ae6NeYWeX"
      },
      "outputs": [],
      "source": [
        "# make a dataframe from current metagraph snapshot and tag your miners\n",
        "\n",
        "meta_cols = ['I','stake','trust','validator_trust','C','R','E','dividends','last_update']\n",
        "\n",
        "df_m = pd.DataFrame({k: getattr(m, k) for k in meta_cols})\n",
        "df_m['uid'] = range(m.n.item())\n",
        "df_m['hotkey'] = list(map(lambda a: a.hotkey, m.axons))\n",
        "df_m['coldkey'] = list(map(lambda a: a.coldkey, m.axons))\n",
        "df_m['ip'] = list(map(lambda a: a.ip, m.axons))\n",
        "df_m['port'] = list(map(lambda a: a.port, m.axons))\n",
        "\n",
        "df_m['my_miners'] = df_m.coldkey.isin(my_coldkeys)\n",
        "df_m.sort_values(by=['stake'], inplace=True, ascending=False)\n",
        "df_m"
      ]
    },
    {
      "cell_type": "code",
      "execution_count": null,
      "metadata": {
        "id": "gCC1qPytYWeX"
      },
      "outputs": [],
      "source": [
        "# Get overview of your miners\n",
        "df_m.loc[df_m['my_miners'] == True]"
      ]
    },
    {
      "cell_type": "code",
      "execution_count": null,
      "metadata": {
        "id": "pDLfmmveYWeX"
      },
      "outputs": [],
      "source": [
        "fig = px.scatter(df_m.assign(\n",
        "                    msize=1+3*df_m['my_miners'].astype(float)\n",
        "                  ).sort_values('I', ascending=False).reset_index(), y='I',\n",
        "                 color='my_miners', size='msize', opacity=0.5,\n",
        "                 hover_name='uid', hover_data=['hotkey','coldkey'],\n",
        "                 title=f'My miners ({df_m.my_miners.sum()}) at block {s.block}',\n",
        "                 labels={'_index':'Ranking'},\n",
        "                 width=800, height=600, template='plotly_white',\n",
        ")\n",
        "fig.update_traces(marker=dict(line=dict(width=0)))"
      ]
    },
    {
      "cell_type": "markdown",
      "source": [
        "# Live network analysis using weights and biases data"
      ],
      "metadata": {
        "id": "uy_BoEcYtl3_"
      }
    },
    {
      "cell_type": "code",
      "execution_count": null,
      "metadata": {
        "id": "f2yq9OD8YWeX"
      },
      "outputs": [],
      "source": [
        "api = wandb.Api()"
      ]
    },
    {
      "cell_type": "code",
      "execution_count": null,
      "metadata": {
        "id": "WXlKS9u0YWeX"
      },
      "outputs": [],
      "source": [
        "# TODO: select a wandb run from https://wandb.ai/opentensor-dev/alpha-validators/table?workspace=default\n",
        "\n",
        "run_path = 'opentensor-dev/alpha-validators/30sg7cpc' # e.g. TAOSTATS live run\n",
        "run = api.run(run_path)\n",
        "\n",
        "# may take a while if the run is long\n",
        "df = pd.DataFrame(list(run.scan_history()))\n",
        "df._timestamp = df._timestamp.apply(pd.to_datetime, unit='s')\n",
        "df\n"
      ]
    },
    {
      "cell_type": "code",
      "execution_count": null,
      "metadata": {
        "id": "H0fItOuuYWeX"
      },
      "outputs": [],
      "source": [
        "list_cols = ['uids','completions','rewards','status_codes','status_messages','relevance_raw_reward','rouge_raw_reward','rouge_raw_penalty','timings']\n",
        "scalar_cols = ['_step','_timestamp','reference','query','task','challenge']\n",
        "# 'unroll' the batches of completions into a long dataframe\n",
        "df_long = df[scalar_cols+list_cols].explode(list_cols)\n",
        "df_long"
      ]
    },
    {
      "cell_type": "code",
      "execution_count": null,
      "metadata": {
        "id": "rWesr6RNYWeX"
      },
      "outputs": [],
      "source": [
        "# look at overall status codes\n",
        "df_long.status_codes.value_counts()\n"
      ]
    },
    {
      "cell_type": "code",
      "execution_count": null,
      "metadata": {
        "id": "YbyO60m3YWeX"
      },
      "outputs": [],
      "source": [
        "# look at number of unique uids which responded with each status code\n",
        "df_long.groupby('status_codes').uids.nunique()"
      ]
    },
    {
      "cell_type": "code",
      "source": [
        "my_uids = df_m.loc[df_m['my_miners']==True,'uid'].tolist()\n",
        "my_uids"
      ],
      "metadata": {
        "id": "zKY6zKEWvq1r"
      },
      "execution_count": null,
      "outputs": []
    },
    {
      "cell_type": "code",
      "source": [
        "# look at status codes for my miners\n",
        "df_long_my_miners = df_long.loc[df_long.uids.isin(my_uids)]\n",
        "df_long_my_miners.groupby('uids').status_codes.value_counts().unstack().fillna(0)"
      ],
      "metadata": {
        "id": "lBQnAzySvRip"
      },
      "execution_count": null,
      "outputs": []
    },
    {
      "cell_type": "code",
      "execution_count": null,
      "metadata": {
        "id": "w2OLrSrGYWeY"
      },
      "outputs": [],
      "source": [
        "df_long['status'] = df_long['status_messages'].apply(lambda x: x.split(':')[0] if isinstance(x,str) else x)"
      ]
    },
    {
      "cell_type": "code",
      "execution_count": null,
      "metadata": {
        "id": "YE2LXt70YWeY"
      },
      "outputs": [],
      "source": [
        "df_time =df_long.groupby(pd.Grouper(key='_timestamp', freq='1h')).status_codes.value_counts(normalize=True).rename('proportion').reset_index()\n",
        "df_time"
      ]
    },
    {
      "cell_type": "code",
      "execution_count": null,
      "metadata": {
        "id": "ddRFpr0dYWeY"
      },
      "outputs": [],
      "source": [
        "px.line(df_time.assign(percent=df_time.proportion*100), x='_timestamp', y='percent', color='status_codes',\n",
        "        width=800, height=600, template='plotly_white',\n",
        "        hover_name='status_codes', hover_data=['status_codes','_timestamp','percent'],\n",
        "        labels={'_timestamp':'', 'percent':'% of Requests', 'status_codes':'Status Code'},\n",
        "        title='Status Codes for Validator over Time'\n",
        ")"
      ]
    },
    {
      "cell_type": "markdown",
      "metadata": {
        "id": "76KY05QlYWeY"
      },
      "source": [
        "# Top Miners"
      ]
    },
    {
      "cell_type": "code",
      "execution_count": null,
      "metadata": {
        "id": "IbJqNb7RYWeY"
      },
      "outputs": [],
      "source": [
        "top_uids = df_long.groupby('uids').rewards.mean().sort_values(ascending=False)\n",
        "top_uids.head(20)"
      ]
    },
    {
      "cell_type": "code",
      "execution_count": null,
      "metadata": {
        "id": "_rwfuBOMYWeY"
      },
      "outputs": [],
      "source": [
        "# Create a markdown file containing the most re which you can open and read later\n",
        "num_top_uids = 5\n",
        "num_completions = 10\n",
        "with open('COMPLETIONS.md','w') as f:\n",
        "\n",
        "    f.write(f'\\n------\\n')\n",
        "    f.write(f'# Top {num_top_uids} UIDs\\n')\n",
        "    for uid in top_uids.index[:num_top_uids]:\n",
        "        f.write(f'------\\n')\n",
        "        f.write(f'## UID {uid}\\n')\n",
        "        df_uid = df_long.loc[df_long.uids==uid]\n",
        "        f.write(df_uid.status_messages.value_counts().to_markdown())\n",
        "        f.write(f'\\n')\n",
        "\n",
        "        for idx, row in df_uid.loc[df_uid.rewards>0].tail(num_completions).iterrows():\n",
        "            f.write(f'\\n**Task** {row.task}')\n",
        "            f.write(f'\\n- Index {idx}')\n",
        "            f.write(f'\\n- Reward {row.rewards:.3f}')\n",
        "            f.write(f'\\n- Rouge {row.rouge_raw_reward:.3f}')\n",
        "            f.write(f'\\n- Relevance {row.relevance_raw_reward:.3f}')\n",
        "            f.write(f'\\n- Rouge Penalty {row.rouge_raw_penalty:.3f}')\n",
        "            f.write(f'\\n- Timing {row.timings:.3f}\\n')\n",
        "            f.write(f'\\n**QUERY**\\n{row.query}')\n",
        "            f.write(f'\\n**CHALLENGE**\\n{row.challenge}')\n",
        "            f.write(f'\\n**REFERENCE**\\n{row.reference}')\n",
        "            f.write(f'\\n**COMPLETION**\\n{row.completions}')\n",
        "            f.write(f'\\n------\\n')\n"
      ]
    },
    {
      "cell_type": "code",
      "execution_count": null,
      "metadata": {
        "id": "ER1c8iLEYWeY"
      },
      "outputs": [],
      "source": [
        "df_long['top']=df_long.uids.isin(top_uids.index[:20])\n",
        "df_long['mine']=df_long.uids.isin(my_uids)\n"
      ]
    },
    {
      "cell_type": "code",
      "execution_count": null,
      "metadata": {
        "id": "qoK2bDbwYWeY"
      },
      "outputs": [],
      "source": [
        "sel = df_long.loc[df_long.rewards>0].melt(\n",
        "        id_vars=['_timestamp','uids','top','mine','task'],\n",
        "        value_vars=['relevance_raw_reward','rouge_raw_reward','rouge_raw_penalty','rewards'],\n",
        "        var_name='metric',\n",
        "        value_name='score'\n",
        "        )\n",
        "\n",
        "px.box(sel, x='score', facet_col='metric', facet_col_wrap=2,\n",
        "        color='mine',\n",
        "        category_orders={'top':[True,False]},\n",
        "        title='Scores for my Miners',\n",
        "       points=False,\n",
        "        template='plotly_white', width=800, height=600, ).show()"
      ]
    },
    {
      "cell_type": "code",
      "execution_count": null,
      "metadata": {
        "id": "UMq2nSvIYWeY"
      },
      "outputs": [],
      "source": [
        "px.histogram(df_long.assign(failed=df_long.rewards==0),\n",
        "             x='failed', color='mine', opacity=0.7,\n",
        "             histnorm='percent', barmode='group',\n",
        "             category_orders={'status_codes':sorted(df_long.status_codes.fillna(0).unique())},\n",
        "             title='Failure Rates for my Miners',\n",
        "             width=800, height=600, template='plotly_white',\n",
        ")"
      ]
    },
    {
      "cell_type": "code",
      "execution_count": null,
      "metadata": {
        "id": "xVnzokUQYWeY"
      },
      "outputs": [],
      "source": [
        "px.histogram(df_long.astype({'status_codes':str}),\n",
        "             x='status_codes', color='mine', opacity=0.7,\n",
        "             histnorm='percent', barmode='group',\n",
        "             category_orders={'status_codes':sorted(df_long.status_codes.fillna(0).unique())},\n",
        "             title='Status Codes for my Miners',\n",
        "             width=800, height=600, template='plotly_white',\n",
        ")"
      ]
    },
    {
      "cell_type": "code",
      "execution_count": null,
      "metadata": {
        "id": "Ul9ruw7KYWec"
      },
      "outputs": [],
      "source": []
    }
  ],
  "metadata": {
    "kernelspec": {
      "display_name": "env",
      "language": "python",
      "name": "python3"
    },
    "language_info": {
      "codemirror_mode": {
        "name": "ipython",
        "version": 3
      },
      "file_extension": ".py",
      "mimetype": "text/x-python",
      "name": "python",
      "nbconvert_exporter": "python",
      "pygments_lexer": "ipython3",
      "version": "3.9.1"
    },
    "colab": {
      "provenance": [],
      "include_colab_link": true
    }
  },
  "nbformat": 4,
  "nbformat_minor": 0
}